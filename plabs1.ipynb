{
 "cells": [
  {
   "cell_type": "markdown",
   "metadata": {},
   "source": [
    "# Alrighty, let's give Planet's Satellite imagery api a first test! "
   ]
  },
  {
   "cell_type": "markdown",
   "metadata": {},
   "source": [
    "### 1.0: Import the api key from a config file."
   ]
  },
  {
   "cell_type": "code",
   "execution_count": 5,
   "metadata": {},
   "outputs": [],
   "source": [
    "#Setup the API Key from the `PL_API_KEY` environment variable\n",
    "from aFile import api_key\n",
    "PLANET_API_KEY = api_key"
   ]
  },
  {
   "cell_type": "markdown",
   "metadata": {},
   "source": [
    "### 1.1: Get our dependencies"
   ]
  },
  {
   "cell_type": "code",
   "execution_count": 20,
   "metadata": {},
   "outputs": [],
   "source": [
    "import os\n",
    "import json\n",
    "import requests\n",
    "from requests.auth import HTTPBasicAuth"
   ]
  },
  {
   "cell_type": "markdown",
   "metadata": {},
   "source": [
    "### 1.2: Setup the session"
   ]
  },
  {
   "cell_type": "code",
   "execution_count": 29,
   "metadata": {},
   "outputs": [],
   "source": [
    "session = requests.Session()\n",
    "session.auth = (PLANET_API_KEY, '')"
   ]
  },
  {
   "cell_type": "markdown",
   "metadata": {},
   "source": [
    "# 2.0: Prep the data for the map(s)"
   ]
  },
  {
   "cell_type": "markdown",
   "metadata": {},
   "source": [
    "### 2.1: Load the GeoJson coordinates for the map(s) we want"
   ]
  },
  {
   "cell_type": "code",
   "execution_count": 11,
   "metadata": {},
   "outputs": [],
   "source": [
    "'''\n",
    "geo_json_geometry = {\n",
    "  \"type\": \"Polygon\",\n",
    "  \"coordinates\": [\n",
    "    [\n",
    "      [\n",
    "        -122.52227783203125,\n",
    "        40.660847697284815\n",
    "      ],\n",
    "      [\n",
    "        -122.52227783203125,\n",
    "        40.987154933797335\n",
    "      ],\n",
    "      [\n",
    "        -122.01690673828124,\n",
    "        40.987154933797335\n",
    "      ],\n",
    "      [\n",
    "        -122.01690673828124,\n",
    "        40.660847697284815\n",
    "      ],\n",
    "      [\n",
    "        -122.52227783203125,\n",
    "        40.660847697284815\n",
    "      ]\n",
    "    ]\n",
    "  ]\n",
    "}"
   ]
  },
  {
   "cell_type": "code",
   "execution_count": 38,
   "metadata": {},
   "outputs": [],
   "source": [
    "geo_json_geometry = {\n",
    " \"type\": \"Polygon\",\n",
    " \"coordinates\": [\n",
    "    [\n",
    "      [\n",
    "        -73.97801756858826,\n",
    "        40.72943772441242\n",
    "      ],\n",
    "      [\n",
    "        -73.98258805274963,\n",
    "        40.73136457840986\n",
    "      ],\n",
    "      [\n",
    "        -73.98582816123962,\n",
    "        40.72696606629052\n",
    "      ],\n",
    "      [\n",
    "        -73.98120403289795,\n",
    "        40.725022823244004\n",
    "      ],\n",
    "      [\n",
    "        -73.97801756858826,\n",
    "        40.72943772441242\n",
    "      ]\n",
    "    ]\n",
    "  ]\n",
    "}"
   ]
  },
  {
   "cell_type": "code",
   "execution_count": 55,
   "metadata": {},
   "outputs": [],
   "source": [
    "# filter for items the overlap with our chosen geometry\n",
    "geometry_filter = {\n",
    "  \"type\": \"GeometryFilter\",\n",
    "  \"field_name\": \"geometry\",\n",
    "  \"config\": geo_json_geometry\n",
    "}"
   ]
  },
  {
   "cell_type": "code",
   "execution_count": 67,
   "metadata": {},
   "outputs": [
    {
     "data": {
      "text/plain": [
       "{'type': 'GeometryFilter',\n",
       " 'field_name': 'geometry',\n",
       " 'config': {'type': 'Polygon',\n",
       "  'coordinates': [[[-73.97801756858826, 40.72943772441242],\n",
       "    [-73.98258805274963, 40.73136457840986],\n",
       "    [-73.98582816123962, 40.72696606629052],\n",
       "    [-73.98120403289795, 40.725022823244004],\n",
       "    [-73.97801756858826, 40.72943772441242]]]}}"
      ]
     },
     "execution_count": 67,
     "metadata": {},
     "output_type": "execute_result"
    }
   ],
   "source": [
    "geometry_filter"
   ]
  },
  {
   "cell_type": "code",
   "execution_count": 58,
   "metadata": {},
   "outputs": [],
   "source": [
    "# filter images acquired in a certain date range\n",
    "date_range_filter = {\n",
    "  \"type\": \"DateRangeFilter\",\n",
    "  \"field_name\": \"acquired\",\n",
    "  \"config\": {\n",
    "    \"gte\": \"2018-07-01T00:00:00.000Z\",\n",
    "    \"lte\": \"2018-08-01T00:00:00.000Z\"\n",
    "  }\n",
    "}"
   ]
  },
  {
   "cell_type": "code",
   "execution_count": 68,
   "metadata": {},
   "outputs": [
    {
     "data": {
      "text/plain": [
       "{'type': 'DateRangeFilter',\n",
       " 'field_name': 'acquired',\n",
       " 'config': {'gte': '2018-07-01T00:00:00.000Z',\n",
       "  'lte': '2018-08-01T00:00:00.000Z'}}"
      ]
     },
     "execution_count": 68,
     "metadata": {},
     "output_type": "execute_result"
    }
   ],
   "source": [
    "date_range_filter"
   ]
  },
  {
   "cell_type": "code",
   "execution_count": 41,
   "metadata": {},
   "outputs": [],
   "source": [
    "# filter any images which are more than 50% clouds\n",
    "cloud_cover_filter = {\n",
    "  \"type\": \"RangeFilter\",\n",
    "  \"field_name\": \"cloud_cover\",\n",
    "  \"config\": {\n",
    "    \"lte\": 0.5\n",
    "  }\n",
    "}"
   ]
  },
  {
   "cell_type": "code",
   "execution_count": 69,
   "metadata": {},
   "outputs": [
    {
     "data": {
      "text/plain": [
       "{'type': 'RangeFilter', 'field_name': 'cloud_cover', 'config': {'lte': 0.5}}"
      ]
     },
     "execution_count": 69,
     "metadata": {},
     "output_type": "execute_result"
    }
   ],
   "source": [
    "cloud_cover_filter"
   ]
  },
  {
   "cell_type": "code",
   "execution_count": 70,
   "metadata": {},
   "outputs": [],
   "source": [
    "# create a filter that combines our geo and date filters\n",
    "# could also use an \"OrFilter\"\n",
    "city1 = {\n",
    "  \"type\": \"AndFilter\",\n",
    "  \"config\": [geometry_filter, date_range_filter, cloud_cover_filter]\n",
    "}\n"
   ]
  },
  {
   "cell_type": "code",
   "execution_count": 71,
   "metadata": {},
   "outputs": [
    {
     "data": {
      "text/plain": [
       "{'type': 'AndFilter',\n",
       " 'config': [{'type': 'GeometryFilter',\n",
       "   'field_name': 'geometry',\n",
       "   'config': {'type': 'Polygon',\n",
       "    'coordinates': [[[-73.97801756858826, 40.72943772441242],\n",
       "      [-73.98258805274963, 40.73136457840986],\n",
       "      [-73.98582816123962, 40.72696606629052],\n",
       "      [-73.98120403289795, 40.725022823244004],\n",
       "      [-73.97801756858826, 40.72943772441242]]]}},\n",
       "  {'type': 'DateRangeFilter',\n",
       "   'field_name': 'acquired',\n",
       "   'config': {'gte': '2018-07-01T00:00:00.000Z',\n",
       "    'lte': '2018-08-01T00:00:00.000Z'}},\n",
       "  {'type': 'RangeFilter',\n",
       "   'field_name': 'cloud_cover',\n",
       "   'config': {'lte': 0.5}}]}"
      ]
     },
     "execution_count": 71,
     "metadata": {},
     "output_type": "execute_result"
    }
   ],
   "source": [
    "city1"
   ]
  },
  {
   "cell_type": "code",
   "execution_count": 72,
   "metadata": {},
   "outputs": [],
   "source": [
    "# Stats API request object\n",
    "stats_endpoint_request = {\n",
    "  \"interval\": \"day\",\n",
    "  \"item_types\": [\"REOrthoTile\"],\n",
    "  \"filter\": city1\n",
    "}"
   ]
  },
  {
   "cell_type": "code",
   "execution_count": 73,
   "metadata": {},
   "outputs": [
    {
     "data": {
      "text/plain": [
       "{'interval': 'day',\n",
       " 'item_types': ['REOrthoTile'],\n",
       " 'filter': {'type': 'AndFilter',\n",
       "  'config': [{'type': 'GeometryFilter',\n",
       "    'field_name': 'geometry',\n",
       "    'config': {'type': 'Polygon',\n",
       "     'coordinates': [[[-73.97801756858826, 40.72943772441242],\n",
       "       [-73.98258805274963, 40.73136457840986],\n",
       "       [-73.98582816123962, 40.72696606629052],\n",
       "       [-73.98120403289795, 40.725022823244004],\n",
       "       [-73.97801756858826, 40.72943772441242]]]}},\n",
       "   {'type': 'DateRangeFilter',\n",
       "    'field_name': 'acquired',\n",
       "    'config': {'gte': '2018-07-01T00:00:00.000Z',\n",
       "     'lte': '2018-08-01T00:00:00.000Z'}},\n",
       "   {'type': 'RangeFilter',\n",
       "    'field_name': 'cloud_cover',\n",
       "    'config': {'lte': 0.5}}]}}"
      ]
     },
     "execution_count": 73,
     "metadata": {},
     "output_type": "execute_result"
    }
   ],
   "source": [
    "stats_endpoint_request"
   ]
  },
  {
   "cell_type": "code",
   "execution_count": 74,
   "metadata": {},
   "outputs": [],
   "source": [
    "# Search API request object\n",
    "search_endpoint_request = {\n",
    "  \"item_types\": [\"REOrthoTile\"],\n",
    "  \"filter\": city1\n",
    "}"
   ]
  },
  {
   "cell_type": "code",
   "execution_count": 75,
   "metadata": {},
   "outputs": [
    {
     "data": {
      "text/plain": [
       "{'item_types': ['REOrthoTile'],\n",
       " 'filter': {'type': 'AndFilter',\n",
       "  'config': [{'type': 'GeometryFilter',\n",
       "    'field_name': 'geometry',\n",
       "    'config': {'type': 'Polygon',\n",
       "     'coordinates': [[[-73.97801756858826, 40.72943772441242],\n",
       "       [-73.98258805274963, 40.73136457840986],\n",
       "       [-73.98582816123962, 40.72696606629052],\n",
       "       [-73.98120403289795, 40.725022823244004],\n",
       "       [-73.97801756858826, 40.72943772441242]]]}},\n",
       "   {'type': 'DateRangeFilter',\n",
       "    'field_name': 'acquired',\n",
       "    'config': {'gte': '2018-07-01T00:00:00.000Z',\n",
       "     'lte': '2018-08-01T00:00:00.000Z'}},\n",
       "   {'type': 'RangeFilter',\n",
       "    'field_name': 'cloud_cover',\n",
       "    'config': {'lte': 0.5}}]}}"
      ]
     },
     "execution_count": 75,
     "metadata": {},
     "output_type": "execute_result"
    }
   ],
   "source": [
    "search_endpoint_request"
   ]
  },
  {
   "cell_type": "code",
   "execution_count": 106,
   "metadata": {},
   "outputs": [],
   "source": [
    "# fire off the POST request\n",
    "result = \\\n",
    "  requests.post(\n",
    "    'https://api.planet.com/data/v1/quick-search',\n",
    "    auth=HTTPBasicAuth(PLANET_API_KEY, ''),\n",
    "    json=search_endpoint_request)"
   ]
  },
  {
   "cell_type": "code",
   "execution_count": 109,
   "metadata": {},
   "outputs": [
    {
     "data": {
      "text/plain": [
       "{'_links': {'_first': 'https://api.planet.com/data/v1/searches/2658e4dc40954a7cb18e186ca4ea4b12/results?_page=eyJxdWVyeV9wYXJhbXMiOiB7fSwgInNvcnRfcHJldiI6IGZhbHNlLCAicGFnZV9zaXplIjogMjUwLCAic29ydF9ieSI6ICJwdWJsaXNoZWQiLCAic29ydF9zdGFydCI6IG51bGwsICJzb3J0X2xhc3RfaWQiOiBudWxsLCAic29ydF9kZXNjIjogdHJ1ZX0%3D',\n",
       "  '_next': 'https://api.planet.com/data/v1/searches/2658e4dc40954a7cb18e186ca4ea4b12/results?_page=eyJxdWVyeV9wYXJhbXMiOiB7fSwgInNvcnRfcHJldiI6IGZhbHNlLCAicGFnZV9zaXplIjogMjUwLCAic29ydF9ieSI6ICJwdWJsaXNoZWQiLCAic29ydF9zdGFydCI6ICIyMDE4LTA3LTIwVDA5OjAzOjM0LjgyMDAwMFoiLCAic29ydF9sYXN0X2lkIjogIjIwMTgwNzE5XzE1NDEwNF8xODU3ODE4X1JhcGlkRXllLTMiLCAic29ydF9kZXNjIjogdHJ1ZX0%3D',\n",
       "  '_self': 'https://api.planet.com/data/v1/searches/2658e4dc40954a7cb18e186ca4ea4b12/results?_page=eyJxdWVyeV9wYXJhbXMiOiB7fSwgInNvcnRfcHJldiI6IGZhbHNlLCAicGFnZV9zaXplIjogMjUwLCAic29ydF9ieSI6ICJwdWJsaXNoZWQiLCAic29ydF9zdGFydCI6IG51bGwsICJzb3J0X2xhc3RfaWQiOiBudWxsLCAic29ydF9kZXNjIjogdHJ1ZX0%3D'},\n",
       " 'features': [{'_links': {'_self': 'https://api.planet.com/data/v1/item-types/REOrthoTile/items/20180719_154104_1857818_RapidEye-3',\n",
       "    'assets': 'https://api.planet.com/data/v1/item-types/REOrthoTile/items/20180719_154104_1857818_RapidEye-3/assets/',\n",
       "    'thumbnail': 'https://tiles.planet.com/data/v1/item-types/REOrthoTile/items/20180719_154104_1857818_RapidEye-3/thumb'},\n",
       "   '_permissions': ['assets.analytic:download',\n",
       "    'assets.visual:download',\n",
       "    'assets.analytic_xml:download',\n",
       "    'assets.visual_xml:download',\n",
       "    'assets.udm:download'],\n",
       "   'geometry': {'coordinates': [[[-74.1529026, 40.7603564],\n",
       "      [-73.8567639, 40.7578029],\n",
       "      [-73.8605994, 40.5326273],\n",
       "      [-74.1557452, 40.5351613],\n",
       "      [-74.1529026, 40.7603564]]],\n",
       "    'type': 'Polygon'},\n",
       "   'id': '20180719_154104_1857818_RapidEye-3',\n",
       "   'properties': {'acquired': '2018-07-19T15:41:04Z',\n",
       "    'anomalous_pixels': 0,\n",
       "    'black_fill': 0,\n",
       "    'catalog_id': '36747747',\n",
       "    'cloud_cover': 0,\n",
       "    'columns': 5000,\n",
       "    'epsg_code': 32618,\n",
       "    'grid_cell': '1857818',\n",
       "    'ground_control': True,\n",
       "    'gsd': 6.5,\n",
       "    'item_type': 'REOrthoTile',\n",
       "    'origin_x': 571500,\n",
       "    'origin_y': 4512500,\n",
       "    'pixel_resolution': 5,\n",
       "    'provider': 'rapideye',\n",
       "    'published': '2018-07-20T09:03:34.820Z',\n",
       "    'rows': 5000,\n",
       "    'satellite_id': 'RapidEye-3',\n",
       "    'strip_id': '36747699',\n",
       "    'sun_azimuth': 132.64521,\n",
       "    'sun_elevation': 63.79889,\n",
       "    'updated': '2018-07-20T09:03:34.846Z',\n",
       "    'usable_data': 1,\n",
       "    'view_angle': 13.55654},\n",
       "   'type': 'Feature'}],\n",
       " 'type': 'FeatureCollection'}"
      ]
     },
     "execution_count": 109,
     "metadata": {},
     "output_type": "execute_result"
    }
   ],
   "source": [
    "#print result.text\n",
    "out_json = json.loads(result.text)\n",
    "i=0\n",
    "out_json"
   ]
  },
  {
   "cell_type": "code",
   "execution_count": 110,
   "metadata": {},
   "outputs": [
    {
     "name": "stdout",
     "output_type": "stream",
     "text": [
      "20180719_154104_1857818_RapidEye-3\n"
     ]
    }
   ],
   "source": [
    "for feature in out_json['features']: \n",
    "\tif i == 0:\n",
    "\t\titem_id = feature['id']\n",
    "\ti=i+1\n",
    "\tprint(feature['id'])"
   ]
  },
  {
   "cell_type": "code",
   "execution_count": 111,
   "metadata": {},
   "outputs": [],
   "source": [
    "# item_id = \"20160707_195147_1057916_RapidEye-1\"\n",
    "item_id = \"20180719_154104_1857818_RapidEye-3\"\n",
    "item_type = \"REOrthoTile\"\n",
    "asset_type = \"visual\""
   ]
  },
  {
   "cell_type": "code",
   "execution_count": 112,
   "metadata": {},
   "outputs": [],
   "source": [
    "# request an item\n",
    "item = \\\n",
    "  session.get(\n",
    "    (\"https://api.planet.com/data/v1/item-types/\" +\n",
    "    \"{}/items/{}/assets/\").format(item_type, item_id))"
   ]
  },
  {
   "cell_type": "code",
   "execution_count": 113,
   "metadata": {},
   "outputs": [
    {
     "name": "stdout",
     "output_type": "stream",
     "text": [
      "<class 'requests.models.Response'>\n",
      "{'Access-Control-Allow-Credentials': 'true', 'Access-Control-Allow-Origin': '*', 'Content-Encoding': 'gzip', 'Content-Type': 'application/json', 'Date': 'Tue, 17 Sep 2019 12:48:03 GMT', 'Server': 'nginx/1.15.10', 'Strict-Transport-Security': 'max-age=15724800; includeSubDomains', 'Vary': 'Accept-Encoding', 'X-Planet-Trace-Id': '0d38025a-d892-499e-b825-c293e483d98d', 'Via': '1.1 edge, 1.1 google', 'Alt-Svc': 'clear', 'Transfer-Encoding': 'chunked'}\n"
     ]
    }
   ],
   "source": [
    "print(type(item))\n",
    "print(item.headers)\n"
   ]
  },
  {
   "cell_type": "code",
   "execution_count": 114,
   "metadata": {},
   "outputs": [
    {
     "name": "stdout",
     "output_type": "stream",
     "text": [
      "b'{\"analytic\": {\"_links\": {\"_self\": \"https://api.planet.com/data/v1/assets/eyJpIjogIjIwMTgwNzE5XzE1NDEwNF8xODU3ODE4X1JhcGlkRXllLTMiLCAiYyI6ICJSRU9ydGhvVGlsZSIsICJ0IjogImFuYWx5dGljIiwgImN0IjogIml0ZW0tdHlwZSJ9\", \"activate\": \"https://api.planet.com/data/v1/assets/eyJpIjogIjIwMTgwNzE5XzE1NDEwNF8xODU3ODE4X1JhcGlkRXllLTMiLCAiYyI6ICJSRU9ydGhvVGlsZSIsICJ0IjogImFuYWx5dGljIiwgImN0IjogIml0ZW0tdHlwZSJ9/activate\", \"type\": \"https://api.planet.com/data/v1/asset-types/analytic\"}, \"_permissions\": [\"download\"], \"md5_digest\": null, \"status\": \"inactive\", \"type\": \"analytic\"}, \"analytic_xml\": {\"_links\": {\"_self\": \"https://api.planet.com/data/v1/assets/eyJpIjogIjIwMTgwNzE5XzE1NDEwNF8xODU3ODE4X1JhcGlkRXllLTMiLCAiYyI6ICJSRU9ydGhvVGlsZSIsICJ0IjogImFuYWx5dGljX3htbCIsICJjdCI6ICJpdGVtLXR5cGUifQ\", \"activate\": \"https://api.planet.com/data/v1/assets/eyJpIjogIjIwMTgwNzE5XzE1NDEwNF8xODU3ODE4X1JhcGlkRXllLTMiLCAiYyI6ICJSRU9ydGhvVGlsZSIsICJ0IjogImFuYWx5dGljX3htbCIsICJjdCI6ICJpdGVtLXR5cGUifQ/activate\", \"type\": \"https://api.planet.com/data/v1/asset-types/analytic_xml\"}, \"_permissions\": [\"download\"], \"md5_digest\": null, \"status\": \"inactive\", \"type\": \"analytic_xml\"}, \"udm\": {\"_links\": {\"_self\": \"https://api.planet.com/data/v1/assets/eyJpIjogIjIwMTgwNzE5XzE1NDEwNF8xODU3ODE4X1JhcGlkRXllLTMiLCAiYyI6ICJSRU9ydGhvVGlsZSIsICJ0IjogInVkbSIsICJjdCI6ICJpdGVtLXR5cGUifQ\", \"activate\": \"https://api.planet.com/data/v1/assets/eyJpIjogIjIwMTgwNzE5XzE1NDEwNF8xODU3ODE4X1JhcGlkRXllLTMiLCAiYyI6ICJSRU9ydGhvVGlsZSIsICJ0IjogInVkbSIsICJjdCI6ICJpdGVtLXR5cGUifQ/activate\", \"type\": \"https://api.planet.com/data/v1/asset-types/udm\"}, \"_permissions\": [\"download\"], \"md5_digest\": null, \"status\": \"inactive\", \"type\": \"udm\"}, \"visual\": {\"_links\": {\"_self\": \"https://api.planet.com/data/v1/assets/eyJpIjogIjIwMTgwNzE5XzE1NDEwNF8xODU3ODE4X1JhcGlkRXllLTMiLCAiYyI6ICJSRU9ydGhvVGlsZSIsICJ0IjogInZpc3VhbCIsICJjdCI6ICJpdGVtLXR5cGUifQ\", \"activate\": \"https://api.planet.com/data/v1/assets/eyJpIjogIjIwMTgwNzE5XzE1NDEwNF8xODU3ODE4X1JhcGlkRXllLTMiLCAiYyI6ICJSRU9ydGhvVGlsZSIsICJ0IjogInZpc3VhbCIsICJjdCI6ICJpdGVtLXR5cGUifQ/activate\", \"type\": \"https://api.planet.com/data/v1/asset-types/visual\"}, \"_permissions\": [\"download\"], \"md5_digest\": null, \"status\": \"inactive\", \"type\": \"visual\"}, \"visual_xml\": {\"_links\": {\"_self\": \"https://api.planet.com/data/v1/assets/eyJpIjogIjIwMTgwNzE5XzE1NDEwNF8xODU3ODE4X1JhcGlkRXllLTMiLCAiYyI6ICJSRU9ydGhvVGlsZSIsICJ0IjogInZpc3VhbF94bWwiLCAiY3QiOiAiaXRlbS10eXBlIn0\", \"activate\": \"https://api.planet.com/data/v1/assets/eyJpIjogIjIwMTgwNzE5XzE1NDEwNF8xODU3ODE4X1JhcGlkRXllLTMiLCAiYyI6ICJSRU9ydGhvVGlsZSIsICJ0IjogInZpc3VhbF94bWwiLCAiY3QiOiAiaXRlbS10eXBlIn0/activate\", \"type\": \"https://api.planet.com/data/v1/asset-types/visual_xml\"}, \"_permissions\": [\"download\"], \"md5_digest\": null, \"status\": \"inactive\", \"type\": \"visual_xml\"}}'\n"
     ]
    }
   ],
   "source": [
    "print(item.content)"
   ]
  },
  {
   "cell_type": "code",
   "execution_count": 126,
   "metadata": {},
   "outputs": [
    {
     "name": "stdout",
     "output_type": "stream",
     "text": [
      "inactive\n"
     ]
    }
   ],
   "source": [
    "# check if the item is active, if it is inactive, it cannot be downloaded.\n",
    "# (the server has to fetch the image in the background I think.)\n",
    "print(item.json()['visual']['status'])"
   ]
  },
  {
   "cell_type": "code",
   "execution_count": 127,
   "metadata": {},
   "outputs": [],
   "source": [
    "# let's activate the item\n",
    "# Parse out useful links\n",
    "links = item.json()[u\"visual\"][\"_links\"]\n",
    "self_link = links[\"_self\"]\n",
    "activation_link = links[\"activate\"]"
   ]
  },
  {
   "cell_type": "code",
   "execution_count": 128,
   "metadata": {},
   "outputs": [
    {
     "data": {
      "text/plain": [
       "{'_self': 'https://api.planet.com/data/v1/assets/eyJpIjogIjIwMTgwNzE5XzE1NDEwNF8xODU3ODE4X1JhcGlkRXllLTMiLCAiYyI6ICJSRU9ydGhvVGlsZSIsICJ0IjogInZpc3VhbCIsICJjdCI6ICJpdGVtLXR5cGUifQ',\n",
       " 'activate': 'https://api.planet.com/data/v1/assets/eyJpIjogIjIwMTgwNzE5XzE1NDEwNF8xODU3ODE4X1JhcGlkRXllLTMiLCAiYyI6ICJSRU9ydGhvVGlsZSIsICJ0IjogInZpc3VhbCIsICJjdCI6ICJpdGVtLXR5cGUifQ/activate',\n",
       " 'type': 'https://api.planet.com/data/v1/asset-types/visual'}"
      ]
     },
     "execution_count": 128,
     "metadata": {},
     "output_type": "execute_result"
    }
   ],
   "source": [
    "links"
   ]
  },
  {
   "cell_type": "code",
   "execution_count": 129,
   "metadata": {},
   "outputs": [
    {
     "data": {
      "text/plain": [
       "'https://api.planet.com/data/v1/assets/eyJpIjogIjIwMTgwNzE5XzE1NDEwNF8xODU3ODE4X1JhcGlkRXllLTMiLCAiYyI6ICJSRU9ydGhvVGlsZSIsICJ0IjogInZpc3VhbCIsICJjdCI6ICJpdGVtLXR5cGUifQ'"
      ]
     },
     "execution_count": 129,
     "metadata": {},
     "output_type": "execute_result"
    }
   ],
   "source": [
    "self_link"
   ]
  },
  {
   "cell_type": "code",
   "execution_count": 130,
   "metadata": {},
   "outputs": [
    {
     "data": {
      "text/plain": [
       "'https://api.planet.com/data/v1/assets/eyJpIjogIjIwMTgwNzE5XzE1NDEwNF8xODU3ODE4X1JhcGlkRXllLTMiLCAiYyI6ICJSRU9ydGhvVGlsZSIsICJ0IjogInZpc3VhbCIsICJjdCI6ICJpdGVtLXR5cGUifQ/activate'"
      ]
     },
     "execution_count": 130,
     "metadata": {},
     "output_type": "execute_result"
    }
   ],
   "source": [
    "activation_link"
   ]
  },
  {
   "cell_type": "code",
   "execution_count": 131,
   "metadata": {},
   "outputs": [],
   "source": [
    "# Request activation of the 'analytic' asset:\n",
    "activate_result = \\\n",
    "  requests.get(\n",
    "    activation_link,\n",
    "    auth=HTTPBasicAuth(PLANET_API_KEY, '')\n",
    "  )"
   ]
  },
  {
   "cell_type": "code",
   "execution_count": 124,
   "metadata": {},
   "outputs": [
    {
     "data": {
      "text/plain": [
       "<Response [403]>"
      ]
     },
     "execution_count": 124,
     "metadata": {},
     "output_type": "execute_result"
    }
   ],
   "source": [
    "activate_result"
   ]
  },
  {
   "cell_type": "code",
   "execution_count": 116,
   "metadata": {},
   "outputs": [
    {
     "ename": "KeyError",
     "evalue": "'location'",
     "output_type": "error",
     "traceback": [
      "\u001b[1;31m---------------------------------------------------------------------------\u001b[0m",
      "\u001b[1;31mKeyError\u001b[0m                                  Traceback (most recent call last)",
      "\u001b[1;32m<ipython-input-116-764fbdfa4daa>\u001b[0m in \u001b[0;36m<module>\u001b[1;34m\u001b[0m\n\u001b[0;32m      1\u001b[0m \u001b[1;31m# extract the activation url from the item for the desired asset\u001b[0m\u001b[1;33m\u001b[0m\u001b[1;33m\u001b[0m\u001b[1;33m\u001b[0m\u001b[0m\n\u001b[1;32m----> 2\u001b[1;33m \u001b[0mitem_activation_url\u001b[0m \u001b[1;33m=\u001b[0m \u001b[0mitem\u001b[0m\u001b[1;33m.\u001b[0m\u001b[0mjson\u001b[0m\u001b[1;33m(\u001b[0m\u001b[1;33m)\u001b[0m\u001b[1;33m[\u001b[0m\u001b[0masset_type\u001b[0m\u001b[1;33m]\u001b[0m\u001b[1;33m[\u001b[0m\u001b[1;34m'location'\u001b[0m\u001b[1;33m]\u001b[0m\u001b[1;33m\u001b[0m\u001b[1;33m\u001b[0m\u001b[0m\n\u001b[0m",
      "\u001b[1;31mKeyError\u001b[0m: 'location'"
     ]
    }
   ],
   "source": [
    "# extract the activation url from the item for the desired asset\n",
    "item_activation_url = item.json()[asset_type][\"location\"]\n",
    "\n",
    "## no active requests"
   ]
  },
  {
   "cell_type": "code",
   "execution_count": 83,
   "metadata": {},
   "outputs": [],
   "source": [
    "response = session.get(item_activation_url)"
   ]
  },
  {
   "cell_type": "code",
   "execution_count": 84,
   "metadata": {},
   "outputs": [
    {
     "name": "stdout",
     "output_type": "stream",
     "text": [
      "200\n"
     ]
    }
   ],
   "source": [
    "print(response.status_code)"
   ]
  },
  {
   "cell_type": "code",
   "execution_count": 85,
   "metadata": {},
   "outputs": [],
   "source": [
    "with open('./file03.tiff', 'wb') as f:\n",
    "\tfor chunk in response.iter_content(1024):\n",
    "\t\tf.write(chunk)"
   ]
  },
  {
   "cell_type": "code",
   "execution_count": null,
   "metadata": {},
   "outputs": [],
   "source": []
  }
 ],
 "metadata": {
  "kernelspec": {
   "display_name": "Python 3",
   "language": "python",
   "name": "python3"
  },
  "language_info": {
   "codemirror_mode": {
    "name": "ipython",
    "version": 3
   },
   "file_extension": ".py",
   "mimetype": "text/x-python",
   "name": "python",
   "nbconvert_exporter": "python",
   "pygments_lexer": "ipython3",
   "version": "3.7.4"
  }
 },
 "nbformat": 4,
 "nbformat_minor": 4
}
