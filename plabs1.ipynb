{
 "cells": [
  {
   "cell_type": "markdown",
   "metadata": {},
   "source": [
    "# Alrighty, let's give Planet's Satellite imagery api a first test! "
   ]
  },
  {
   "cell_type": "markdown",
   "metadata": {},
   "source": [
    "### 1.0: Import the api key from a config file."
   ]
  },
  {
   "cell_type": "code",
   "execution_count": 1,
   "metadata": {},
   "outputs": [],
   "source": [
    "#Setup the API Key from the `PL_API_KEY` environment variable\n",
    "from aFile import api_key\n",
    "PLANET_API_KEY = api_key"
   ]
  },
  {
   "cell_type": "markdown",
   "metadata": {},
   "source": [
    "### 1.1: Get our dependencies"
   ]
  },
  {
   "cell_type": "code",
   "execution_count": 2,
   "metadata": {},
   "outputs": [],
   "source": [
    "import os\n",
    "import json\n",
    "import requests\n",
    "from requests.auth import HTTPBasicAuth"
   ]
  },
  {
   "cell_type": "markdown",
   "metadata": {},
   "source": [
    "### 1.2: Setup the session"
   ]
  },
  {
   "cell_type": "code",
   "execution_count": 3,
   "metadata": {},
   "outputs": [],
   "source": [
    "session = requests.Session()\n",
    "session.auth = (PLANET_API_KEY, '')"
   ]
  },
  {
   "cell_type": "markdown",
   "metadata": {},
   "source": [
    "# 2.0: Prep the data for the map(s)"
   ]
  },
  {
   "cell_type": "markdown",
   "metadata": {},
   "source": [
    "### 2.1: Load the GeoJson coordinates for the map(s) we want"
   ]
  },
  {
   "cell_type": "code",
   "execution_count": 11,
   "metadata": {},
   "outputs": [],
   "source": [
    "''' # REDDING RESERVOIR USED IN EXAMPLE - NOT USED\n",
    "geo_json_geometry = {\n",
    "  \"type\": \"Polygon\",\n",
    "  \"coordinates\": [\n",
    "    [\n",
    "      [\n",
    "        -122.52227783203125,\n",
    "        40.660847697284815\n",
    "      ],\n",
    "      [\n",
    "        -122.52227783203125,\n",
    "        40.987154933797335\n",
    "      ],\n",
    "      [\n",
    "        -122.01690673828124,\n",
    "        40.987154933797335\n",
    "      ],\n",
    "      [\n",
    "        -122.01690673828124,\n",
    "        40.660847697284815\n",
    "      ],\n",
    "      [\n",
    "        -122.52227783203125,\n",
    "        40.660847697284815\n",
    "      ]\n",
    "    ]\n",
    "  ]\n",
    "}"
   ]
  },
  {
   "cell_type": "code",
   "execution_count": 38,
   "metadata": {},
   "outputs": [],
   "source": [
    "''' # NYC BLOCK, CANNOT USE THIS DUE TO LIMITED LICENSE - NOT USED\n",
    "geo_json_geometry = {\n",
    " \"type\": \"Polygon\",\n",
    " \"coordinates\": [\n",
    "    [\n",
    "      [\n",
    "        -73.97801756858826,\n",
    "        40.72943772441242\n",
    "      ],\n",
    "      [\n",
    "        -73.98258805274963,\n",
    "        40.73136457840986\n",
    "      ],\n",
    "      [\n",
    "        -73.98582816123962,\n",
    "        40.72696606629052\n",
    "      ],\n",
    "      [\n",
    "        -73.98120403289795,\n",
    "        40.725022823244004\n",
    "      ],\n",
    "      [\n",
    "        -73.97801756858826,\n",
    "        40.72943772441242\n",
    "      ]\n",
    "    ]\n",
    "  ]\n",
    "}"
   ]
  },
  {
   "cell_type": "code",
   "execution_count": 5,
   "metadata": {},
   "outputs": [],
   "source": [
    "# MONTEREY CALIFORNIA AND OFFSHORE BAY\n",
    "geo_json_geometry = {\n",
    " \"type\": \"Polygon\",\n",
    " \"coordinates\": [\n",
    "    [\n",
    "      [\n",
    "        238.05004119873047,\n",
    "        36.56783928193884\n",
    "      ],\n",
    "      [\n",
    "        238.19526672363284,\n",
    "        36.56783928193884\n",
    "      ],\n",
    "      [\n",
    "        238.19526672363284,\n",
    "        36.68824378744832\n",
    "      ],\n",
    "      [\n",
    "        238.05004119873047,\n",
    "        36.68824378744832\n",
    "      ],\n",
    "      [\n",
    "        238.05004119873047,\n",
    "        36.56783928193884\n",
    "      ]\n",
    "    ]\n",
    " ]\n",
    "}"
   ]
  },
  {
   "cell_type": "code",
   "execution_count": 79,
   "metadata": {},
   "outputs": [],
   "source": [
    "# OTHER CALIFORNIA\n",
    "geo_json_geometry = {\n",
    " \"type\": \"Polygon\",\n",
    " \"coordinates\": [\n",
    "    [\n",
    "      [\n",
    "        240.01110076904297,\n",
    "        34.521832848280326\n",
    "      ],\n",
    "      [\n",
    "        240.13023376464847,\n",
    "        34.521832848280326\n",
    "      ],\n",
    "      [\n",
    "        240.13023376464847,\n",
    "        34.62642791261892\n",
    "      ],\n",
    "      [\n",
    "        240.01110076904297,\n",
    "        34.62642791261892\n",
    "      ],\n",
    "      [\n",
    "        240.01110076904297,\n",
    "        34.521832848280326\n",
    "      ]\n",
    "    ]\n",
    " ]\n",
    "}"
   ]
  },
  {
   "cell_type": "code",
   "execution_count": 80,
   "metadata": {},
   "outputs": [
    {
     "data": {
      "text/plain": [
       "{'type': 'Polygon',\n",
       " 'coordinates': [[[240.01110076904297, 34.521832848280326],\n",
       "   [240.13023376464847, 34.521832848280326],\n",
       "   [240.13023376464847, 34.62642791261892],\n",
       "   [240.01110076904297, 34.62642791261892],\n",
       "   [240.01110076904297, 34.521832848280326]]]}"
      ]
     },
     "execution_count": 80,
     "metadata": {},
     "output_type": "execute_result"
    }
   ],
   "source": [
    "geo_json_geometry"
   ]
  },
  {
   "cell_type": "code",
   "execution_count": 81,
   "metadata": {},
   "outputs": [],
   "source": [
    "# filter for items the overlap with our chosen geometry\n",
    "geometry_filter = {\n",
    "  \"type\": \"GeometryFilter\",\n",
    "  \"field_name\": \"geometry\",\n",
    "  \"config\": geo_json_geometry\n",
    "}"
   ]
  },
  {
   "cell_type": "code",
   "execution_count": 82,
   "metadata": {},
   "outputs": [
    {
     "data": {
      "text/plain": [
       "{'type': 'GeometryFilter',\n",
       " 'field_name': 'geometry',\n",
       " 'config': {'type': 'Polygon',\n",
       "  'coordinates': [[[240.01110076904297, 34.521832848280326],\n",
       "    [240.13023376464847, 34.521832848280326],\n",
       "    [240.13023376464847, 34.62642791261892],\n",
       "    [240.01110076904297, 34.62642791261892],\n",
       "    [240.01110076904297, 34.521832848280326]]]}}"
      ]
     },
     "execution_count": 82,
     "metadata": {},
     "output_type": "execute_result"
    }
   ],
   "source": [
    "geometry_filter"
   ]
  },
  {
   "cell_type": "code",
   "execution_count": 83,
   "metadata": {},
   "outputs": [],
   "source": [
    "# filter images acquired in a certain date range\n",
    "date_range_filter = {\n",
    "  \"type\": \"DateRangeFilter\",\n",
    "  \"field_name\": \"acquired\",\n",
    "  \"config\": {\n",
    "    \"gte\": \"2018-07-01T00:00:00.000Z\",\n",
    "    \"lte\": \"2018-08-01T00:00:00.000Z\"\n",
    "  }\n",
    "}"
   ]
  },
  {
   "cell_type": "code",
   "execution_count": 84,
   "metadata": {},
   "outputs": [
    {
     "data": {
      "text/plain": [
       "{'type': 'DateRangeFilter',\n",
       " 'field_name': 'acquired',\n",
       " 'config': {'gte': '2018-07-01T00:00:00.000Z',\n",
       "  'lte': '2018-08-01T00:00:00.000Z'}}"
      ]
     },
     "execution_count": 84,
     "metadata": {},
     "output_type": "execute_result"
    }
   ],
   "source": [
    "date_range_filter"
   ]
  },
  {
   "cell_type": "code",
   "execution_count": 85,
   "metadata": {},
   "outputs": [],
   "source": [
    "# filter any images which are more than 50% clouds\n",
    "cloud_cover_filter = {\n",
    "  \"type\": \"RangeFilter\",\n",
    "  \"field_name\": \"cloud_cover\",\n",
    "  \"config\": {\n",
    "    \"lte\": 0.5\n",
    "  }\n",
    "}"
   ]
  },
  {
   "cell_type": "code",
   "execution_count": 86,
   "metadata": {},
   "outputs": [
    {
     "data": {
      "text/plain": [
       "{'type': 'RangeFilter', 'field_name': 'cloud_cover', 'config': {'lte': 0.5}}"
      ]
     },
     "execution_count": 86,
     "metadata": {},
     "output_type": "execute_result"
    }
   ],
   "source": [
    "cloud_cover_filter"
   ]
  },
  {
   "cell_type": "code",
   "execution_count": 87,
   "metadata": {},
   "outputs": [],
   "source": [
    "# create a filter that combines our geo and date filters\n",
    "# could also use an \"OrFilter\"\n",
    "geoarea = {\n",
    "  \"type\": \"AndFilter\",\n",
    "  \"config\": [geometry_filter, date_range_filter, cloud_cover_filter]\n",
    "}\n"
   ]
  },
  {
   "cell_type": "code",
   "execution_count": 88,
   "metadata": {},
   "outputs": [
    {
     "data": {
      "text/plain": [
       "{'type': 'AndFilter',\n",
       " 'config': [{'type': 'GeometryFilter',\n",
       "   'field_name': 'geometry',\n",
       "   'config': {'type': 'Polygon',\n",
       "    'coordinates': [[[240.01110076904297, 34.521832848280326],\n",
       "      [240.13023376464847, 34.521832848280326],\n",
       "      [240.13023376464847, 34.62642791261892],\n",
       "      [240.01110076904297, 34.62642791261892],\n",
       "      [240.01110076904297, 34.521832848280326]]]}},\n",
       "  {'type': 'DateRangeFilter',\n",
       "   'field_name': 'acquired',\n",
       "   'config': {'gte': '2018-07-01T00:00:00.000Z',\n",
       "    'lte': '2018-08-01T00:00:00.000Z'}},\n",
       "  {'type': 'RangeFilter',\n",
       "   'field_name': 'cloud_cover',\n",
       "   'config': {'lte': 0.5}}]}"
      ]
     },
     "execution_count": 88,
     "metadata": {},
     "output_type": "execute_result"
    }
   ],
   "source": [
    "geoarea"
   ]
  },
  {
   "cell_type": "code",
   "execution_count": 89,
   "metadata": {},
   "outputs": [],
   "source": [
    "# Stats API request object\n",
    "stats_endpoint_request = {\n",
    "  \"interval\": \"day\",\n",
    "  \"item_types\": [\"REOrthoTile\"],\n",
    "  \"filter\": geoarea\n",
    "}"
   ]
  },
  {
   "cell_type": "code",
   "execution_count": 90,
   "metadata": {},
   "outputs": [
    {
     "data": {
      "text/plain": [
       "{'interval': 'day',\n",
       " 'item_types': ['REOrthoTile'],\n",
       " 'filter': {'type': 'AndFilter',\n",
       "  'config': [{'type': 'GeometryFilter',\n",
       "    'field_name': 'geometry',\n",
       "    'config': {'type': 'Polygon',\n",
       "     'coordinates': [[[240.01110076904297, 34.521832848280326],\n",
       "       [240.13023376464847, 34.521832848280326],\n",
       "       [240.13023376464847, 34.62642791261892],\n",
       "       [240.01110076904297, 34.62642791261892],\n",
       "       [240.01110076904297, 34.521832848280326]]]}},\n",
       "   {'type': 'DateRangeFilter',\n",
       "    'field_name': 'acquired',\n",
       "    'config': {'gte': '2018-07-01T00:00:00.000Z',\n",
       "     'lte': '2018-08-01T00:00:00.000Z'}},\n",
       "   {'type': 'RangeFilter',\n",
       "    'field_name': 'cloud_cover',\n",
       "    'config': {'lte': 0.5}}]}}"
      ]
     },
     "execution_count": 90,
     "metadata": {},
     "output_type": "execute_result"
    }
   ],
   "source": [
    "stats_endpoint_request"
   ]
  },
  {
   "cell_type": "code",
   "execution_count": 91,
   "metadata": {},
   "outputs": [],
   "source": [
    "# Search API request object\n",
    "search_endpoint_request = {\n",
    "  \"item_types\": [\"REOrthoTile\"],\n",
    "  \"filter\": geoarea\n",
    "}"
   ]
  },
  {
   "cell_type": "code",
   "execution_count": 92,
   "metadata": {},
   "outputs": [
    {
     "data": {
      "text/plain": [
       "{'item_types': ['REOrthoTile'],\n",
       " 'filter': {'type': 'AndFilter',\n",
       "  'config': [{'type': 'GeometryFilter',\n",
       "    'field_name': 'geometry',\n",
       "    'config': {'type': 'Polygon',\n",
       "     'coordinates': [[[240.01110076904297, 34.521832848280326],\n",
       "       [240.13023376464847, 34.521832848280326],\n",
       "       [240.13023376464847, 34.62642791261892],\n",
       "       [240.01110076904297, 34.62642791261892],\n",
       "       [240.01110076904297, 34.521832848280326]]]}},\n",
       "   {'type': 'DateRangeFilter',\n",
       "    'field_name': 'acquired',\n",
       "    'config': {'gte': '2018-07-01T00:00:00.000Z',\n",
       "     'lte': '2018-08-01T00:00:00.000Z'}},\n",
       "   {'type': 'RangeFilter',\n",
       "    'field_name': 'cloud_cover',\n",
       "    'config': {'lte': 0.5}}]}}"
      ]
     },
     "execution_count": 92,
     "metadata": {},
     "output_type": "execute_result"
    }
   ],
   "source": [
    "search_endpoint_request"
   ]
  },
  {
   "cell_type": "code",
   "execution_count": 93,
   "metadata": {},
   "outputs": [],
   "source": [
    "# fire off the POST request\n",
    "result = \\\n",
    "  requests.post(\n",
    "    'https://api.planet.com/data/v1/quick-search',\n",
    "    auth=HTTPBasicAuth(PLANET_API_KEY, ''),\n",
    "    json=search_endpoint_request)"
   ]
  },
  {
   "cell_type": "code",
   "execution_count": 94,
   "metadata": {},
   "outputs": [
    {
     "data": {
      "text/plain": [
       "{'_links': {'_first': 'https://api.planet.com/data/v1/searches/340677faf2a946c0bda3ad0a1a76a0b0/results?_page=eyJxdWVyeV9wYXJhbXMiOiB7fSwgInNvcnRfcHJldiI6IGZhbHNlLCAicGFnZV9zaXplIjogMjUwLCAic29ydF9ieSI6ICJwdWJsaXNoZWQiLCAic29ydF9zdGFydCI6IG51bGwsICJzb3J0X2xhc3RfaWQiOiBudWxsLCAic29ydF9kZXNjIjogdHJ1ZX0%3D',\n",
       "  '_next': 'https://api.planet.com/data/v1/searches/340677faf2a946c0bda3ad0a1a76a0b0/results?_page=eyJxdWVyeV9wYXJhbXMiOiB7fSwgInNvcnRfcHJldiI6IGZhbHNlLCAicGFnZV9zaXplIjogMjUwLCAic29ydF9ieSI6ICJwdWJsaXNoZWQiLCAic29ydF9zdGFydCI6ICIyMDE4LTA3LTA4VDA5OjU1OjQ4LjMzNTAwMFoiLCAic29ydF9sYXN0X2lkIjogIjIwMTgwNzA3XzE4NTIyMF8xMDU1MDI2X1JhcGlkRXllLTEiLCAic29ydF9kZXNjIjogdHJ1ZX0%3D',\n",
       "  '_self': 'https://api.planet.com/data/v1/searches/340677faf2a946c0bda3ad0a1a76a0b0/results?_page=eyJxdWVyeV9wYXJhbXMiOiB7fSwgInNvcnRfcHJldiI6IGZhbHNlLCAicGFnZV9zaXplIjogMjUwLCAic29ydF9ieSI6ICJwdWJsaXNoZWQiLCAic29ydF9zdGFydCI6IG51bGwsICJzb3J0X2xhc3RfaWQiOiBudWxsLCAic29ydF9kZXNjIjogdHJ1ZX0%3D'},\n",
       " 'features': [{'_links': {'_self': 'https://api.planet.com/data/v1/item-types/REOrthoTile/items/20180728_184647_1155004_RapidEye-3',\n",
       "    'assets': 'https://api.planet.com/data/v1/item-types/REOrthoTile/items/20180728_184647_1155004_RapidEye-3/assets/',\n",
       "    'thumbnail': 'https://tiles.planet.com/data/v1/item-types/REOrthoTile/items/20180728_184647_1155004_RapidEye-3/thumb'},\n",
       "   '_permissions': ['assets.analytic:download',\n",
       "    'assets.visual:download',\n",
       "    'assets.analytic_xml:download',\n",
       "    'assets.visual_xml:download',\n",
       "    'assets.udm:download'],\n",
       "   'geometry': {'coordinates': [[[-119.88119443849527, 34.513423081591036],\n",
       "      [-119.8866818, 34.6723382],\n",
       "      [-119.83732394350939, 34.67345276547974],\n",
       "      [-119.88119443849527, 34.513423081591036]]],\n",
       "    'type': 'Polygon'},\n",
       "   'id': '20180728_184647_1155004_RapidEye-3',\n",
       "   'properties': {'acquired': '2018-07-28T18:46:47Z',\n",
       "    'anomalous_pixels': 0.95,\n",
       "    'black_fill': 0.95,\n",
       "    'catalog_id': '36857646',\n",
       "    'cloud_cover': 0,\n",
       "    'columns': 5000,\n",
       "    'epsg_code': 32611,\n",
       "    'grid_cell': '1155004',\n",
       "    'ground_control': True,\n",
       "    'gsd': 6.5,\n",
       "    'item_type': 'REOrthoTile',\n",
       "    'origin_x': 235500,\n",
       "    'origin_y': 3840500,\n",
       "    'pixel_resolution': 5,\n",
       "    'provider': 'rapideye',\n",
       "    'published': '2018-07-29T10:50:51.902Z',\n",
       "    'rows': 5000,\n",
       "    'satellite_id': 'RapidEye-3',\n",
       "    'strip_id': '36857535',\n",
       "    'sun_azimuth': 126.57375,\n",
       "    'sun_elevation': 66.61869,\n",
       "    'updated': '2018-07-29T10:50:51.926Z',\n",
       "    'usable_data': 0.05,\n",
       "    'view_angle': 0.12457},\n",
       "   'type': 'Feature'},\n",
       "  {'_links': {'_self': 'https://api.planet.com/data/v1/item-types/REOrthoTile/items/20180728_184647_1155003_RapidEye-3',\n",
       "    'assets': 'https://api.planet.com/data/v1/item-types/REOrthoTile/items/20180728_184647_1155003_RapidEye-3/assets/',\n",
       "    'thumbnail': 'https://tiles.planet.com/data/v1/item-types/REOrthoTile/items/20180728_184647_1155003_RapidEye-3/thumb'},\n",
       "   '_permissions': ['assets.analytic:download',\n",
       "    'assets.visual:download',\n",
       "    'assets.analytic_xml:download',\n",
       "    'assets.visual_xml:download',\n",
       "    'assets.udm:download'],\n",
       "   'geometry': {'coordinates': [[[-119.89948952071174, 34.446686410238094],\n",
       "      [-120.1401227, 34.4410109],\n",
       "      [-120.1479528, 34.6661271],\n",
       "      [-119.8757803, 34.6725961],\n",
       "      [-119.87151885815386, 34.54871741925404],\n",
       "      [-119.893470126735, 34.4686441359887],\n",
       "      [-119.89948952071174, 34.446686410238094]]],\n",
       "    'type': 'Polygon'},\n",
       "   'id': '20180728_184647_1155003_RapidEye-3',\n",
       "   'properties': {'acquired': '2018-07-28T18:46:47Z',\n",
       "    'anomalous_pixels': 0.09,\n",
       "    'black_fill': 0.03,\n",
       "    'catalog_id': '36857644',\n",
       "    'cloud_cover': 0.06,\n",
       "    'columns': 5000,\n",
       "    'epsg_code': 32611,\n",
       "    'grid_cell': '1155003',\n",
       "    'ground_control': True,\n",
       "    'gsd': 6.5,\n",
       "    'item_type': 'REOrthoTile',\n",
       "    'origin_x': 211500,\n",
       "    'origin_y': 3840500,\n",
       "    'pixel_resolution': 5,\n",
       "    'provider': 'rapideye',\n",
       "    'published': '2018-07-29T10:50:51.502Z',\n",
       "    'rows': 5000,\n",
       "    'satellite_id': 'RapidEye-3',\n",
       "    'strip_id': '36857535',\n",
       "    'sun_azimuth': 126.12511,\n",
       "    'sun_elevation': 66.45051,\n",
       "    'updated': '2018-07-29T10:50:51.551Z',\n",
       "    'usable_data': 0.91,\n",
       "    'view_angle': 0.12457},\n",
       "   'type': 'Feature'},\n",
       "  {'_links': {'_self': 'https://api.planet.com/data/v1/item-types/REOrthoTile/items/20180728_184647_1055026_RapidEye-3',\n",
       "    'assets': 'https://api.planet.com/data/v1/item-types/REOrthoTile/items/20180728_184647_1055026_RapidEye-3/assets/',\n",
       "    'thumbnail': 'https://tiles.planet.com/data/v1/item-types/REOrthoTile/items/20180728_184647_1055026_RapidEye-3/thumb'},\n",
       "   '_permissions': ['assets.analytic:download',\n",
       "    'assets.visual:download',\n",
       "    'assets.analytic_xml:download',\n",
       "    'assets.visual_xml:download',\n",
       "    'assets.udm:download'],\n",
       "   'geometry': {'coordinates': [[[-119.90078091000287, 34.44197564167874],\n",
       "      [-120.1319655, 34.4474283],\n",
       "      [-120.1242197, 34.6725961],\n",
       "      [-119.8520472, 34.6661271],\n",
       "      [-119.85389489527992, 34.61300566602426],\n",
       "      [-119.893470126735, 34.4686441359887],\n",
       "      [-119.90078091000287, 34.44197564167874]]],\n",
       "    'type': 'Polygon'},\n",
       "   'id': '20180728_184647_1055026_RapidEye-3',\n",
       "   'properties': {'acquired': '2018-07-28T18:46:47Z',\n",
       "    'anomalous_pixels': 0.12,\n",
       "    'black_fill': 0.07,\n",
       "    'catalog_id': '36857630',\n",
       "    'cloud_cover': 0.05,\n",
       "    'columns': 5000,\n",
       "    'epsg_code': 32610,\n",
       "    'grid_cell': '1055026',\n",
       "    'ground_control': True,\n",
       "    'gsd': 6.5,\n",
       "    'item_type': 'REOrthoTile',\n",
       "    'origin_x': 763500,\n",
       "    'origin_y': 3840500,\n",
       "    'pixel_resolution': 5,\n",
       "    'provider': 'rapideye',\n",
       "    'published': '2018-07-29T10:49:32.525Z',\n",
       "    'rows': 5000,\n",
       "    'satellite_id': 'RapidEye-3',\n",
       "    'strip_id': '36857535',\n",
       "    'sun_azimuth': 126.15168,\n",
       "    'sun_elevation': 66.46104,\n",
       "    'updated': '2018-07-29T10:49:32.550Z',\n",
       "    'usable_data': 0.88,\n",
       "    'view_angle': 0.12457},\n",
       "   'type': 'Feature'},\n",
       "  {'_links': {'_self': 'https://api.planet.com/data/v1/item-types/REOrthoTile/items/20180724_184430_1155004_RapidEye-4',\n",
       "    'assets': 'https://api.planet.com/data/v1/item-types/REOrthoTile/items/20180724_184430_1155004_RapidEye-4/assets/',\n",
       "    'thumbnail': 'https://tiles.planet.com/data/v1/item-types/REOrthoTile/items/20180724_184430_1155004_RapidEye-4/thumb'},\n",
       "   '_permissions': ['assets.analytic:download',\n",
       "    'assets.visual:download',\n",
       "    'assets.analytic_xml:download',\n",
       "    'assets.visual_xml:download',\n",
       "    'assets.udm:download'],\n",
       "   'geometry': {'coordinates': [[[-119.8866818, 34.6723382],\n",
       "      [-119.6141025, 34.6784934],\n",
       "      [-119.6070599, 34.4532757],\n",
       "      [-119.8789068, 34.4471726],\n",
       "      [-119.8866818, 34.6723382]]],\n",
       "    'type': 'Polygon'},\n",
       "   'id': '20180724_184430_1155004_RapidEye-4',\n",
       "   'properties': {'acquired': '2018-07-24T18:44:30Z',\n",
       "    'anomalous_pixels': 0,\n",
       "    'black_fill': 0,\n",
       "    'catalog_id': '36807122',\n",
       "    'cloud_cover': 0,\n",
       "    'columns': 5000,\n",
       "    'epsg_code': 32611,\n",
       "    'grid_cell': '1155004',\n",
       "    'ground_control': True,\n",
       "    'gsd': 6.5,\n",
       "    'item_type': 'REOrthoTile',\n",
       "    'origin_x': 235500,\n",
       "    'origin_y': 3840500,\n",
       "    'pixel_resolution': 5,\n",
       "    'provider': 'rapideye',\n",
       "    'published': '2018-07-25T09:30:03.879Z',\n",
       "    'rows': 5000,\n",
       "    'satellite_id': 'RapidEye-4',\n",
       "    'strip_id': '36807007',\n",
       "    'sun_azimuth': 123.99644,\n",
       "    'sun_elevation': 66.85883,\n",
       "    'updated': '2018-07-25T09:30:04.117Z',\n",
       "    'usable_data': 1,\n",
       "    'view_angle': -3.18376},\n",
       "   'type': 'Feature'},\n",
       "  {'_links': {'_self': 'https://api.planet.com/data/v1/item-types/REOrthoTile/items/20180724_184431_1155003_RapidEye-4',\n",
       "    'assets': 'https://api.planet.com/data/v1/item-types/REOrthoTile/items/20180724_184431_1155003_RapidEye-4/assets/',\n",
       "    'thumbnail': 'https://tiles.planet.com/data/v1/item-types/REOrthoTile/items/20180724_184431_1155003_RapidEye-4/thumb'},\n",
       "   '_permissions': ['assets.analytic:download',\n",
       "    'assets.visual:download',\n",
       "    'assets.analytic_xml:download',\n",
       "    'assets.visual_xml:download',\n",
       "    'assets.udm:download'],\n",
       "   'geometry': {'coordinates': [[[-119.90700708433708, 34.67185390132865],\n",
       "      [-119.8757803, 34.6725961],\n",
       "      [-119.8680345, 34.4474283],\n",
       "      [-119.96870817914863, 34.4450538373494],\n",
       "      [-119.915768457051, 34.6396489639911],\n",
       "      [-119.90700708433708, 34.67185390132865]]],\n",
       "    'type': 'Polygon'},\n",
       "   'id': '20180724_184431_1155003_RapidEye-4',\n",
       "   'properties': {'acquired': '2018-07-24T18:44:31Z',\n",
       "    'anomalous_pixels': 0.76,\n",
       "    'black_fill': 0.75,\n",
       "    'catalog_id': '36807120',\n",
       "    'cloud_cover': 0.01,\n",
       "    'columns': 5000,\n",
       "    'epsg_code': 32611,\n",
       "    'grid_cell': '1155003',\n",
       "    'ground_control': True,\n",
       "    'gsd': 6.5,\n",
       "    'item_type': 'REOrthoTile',\n",
       "    'origin_x': 211500,\n",
       "    'origin_y': 3840500,\n",
       "    'pixel_resolution': 5,\n",
       "    'provider': 'rapideye',\n",
       "    'published': '2018-07-25T09:30:01.809Z',\n",
       "    'rows': 5000,\n",
       "    'satellite_id': 'RapidEye-4',\n",
       "    'strip_id': '36807007',\n",
       "    'sun_azimuth': 123.5622,\n",
       "    'sun_elevation': 66.68493,\n",
       "    'updated': '2018-07-25T09:30:01.931Z',\n",
       "    'usable_data': 0.24,\n",
       "    'view_angle': -3.18376},\n",
       "   'type': 'Feature'},\n",
       "  {'_links': {'_self': 'https://api.planet.com/data/v1/item-types/REOrthoTile/items/20180724_184431_1055026_RapidEye-4',\n",
       "    'assets': 'https://api.planet.com/data/v1/item-types/REOrthoTile/items/20180724_184431_1055026_RapidEye-4/assets/',\n",
       "    'thumbnail': 'https://tiles.planet.com/data/v1/item-types/REOrthoTile/items/20180724_184431_1055026_RapidEye-4/thumb'},\n",
       "   '_permissions': ['assets.analytic:download',\n",
       "    'assets.visual:download',\n",
       "    'assets.analytic_xml:download',\n",
       "    'assets.visual_xml:download',\n",
       "    'assets.udm:download'],\n",
       "   'geometry': {'coordinates': [[[-119.90820196164559, 34.667461787204196],\n",
       "      [-119.8520472, 34.6661271],\n",
       "      [-119.8598773, 34.4410109],\n",
       "      [-119.96910718767536, 34.443587167111794],\n",
       "      [-119.915768457051, 34.6396489639911],\n",
       "      [-119.90820196164559, 34.667461787204196]]],\n",
       "    'type': 'Polygon'},\n",
       "   'id': '20180724_184431_1055026_RapidEye-4',\n",
       "   'properties': {'acquired': '2018-07-24T18:44:31Z',\n",
       "    'anomalous_pixels': 0.7,\n",
       "    'black_fill': 0.69,\n",
       "    'catalog_id': '36807100',\n",
       "    'cloud_cover': 0.01,\n",
       "    'columns': 5000,\n",
       "    'epsg_code': 32610,\n",
       "    'grid_cell': '1055026',\n",
       "    'ground_control': True,\n",
       "    'gsd': 6.5,\n",
       "    'item_type': 'REOrthoTile',\n",
       "    'origin_x': 763500,\n",
       "    'origin_y': 3840500,\n",
       "    'pixel_resolution': 5,\n",
       "    'provider': 'rapideye',\n",
       "    'published': '2018-07-25T09:25:28.314Z',\n",
       "    'rows': 5000,\n",
       "    'satellite_id': 'RapidEye-4',\n",
       "    'strip_id': '36807007',\n",
       "    'sun_azimuth': 123.58786,\n",
       "    'sun_elevation': 66.6958,\n",
       "    'updated': '2018-07-25T09:25:28.454Z',\n",
       "    'usable_data': 0.3,\n",
       "    'view_angle': -3.18376},\n",
       "   'type': 'Feature'},\n",
       "  {'_links': {'_self': 'https://api.planet.com/data/v1/item-types/REOrthoTile/items/20180722_185002_1155003_RapidEye-2',\n",
       "    'assets': 'https://api.planet.com/data/v1/item-types/REOrthoTile/items/20180722_185002_1155003_RapidEye-2/assets/',\n",
       "    'thumbnail': 'https://tiles.planet.com/data/v1/item-types/REOrthoTile/items/20180722_185002_1155003_RapidEye-2/thumb'},\n",
       "   '_permissions': ['assets.analytic:download',\n",
       "    'assets.visual:download',\n",
       "    'assets.analytic_xml:download',\n",
       "    'assets.visual_xml:download',\n",
       "    'assets.udm:download'],\n",
       "   'geometry': {'coordinates': [[[-120.1479528, 34.6661271],\n",
       "      [-119.8757803, 34.6725961],\n",
       "      [-119.8680345, 34.4474283],\n",
       "      [-120.1401227, 34.4410109],\n",
       "      [-120.1479528, 34.6661271]]],\n",
       "    'type': 'Polygon'},\n",
       "   'id': '20180722_185002_1155003_RapidEye-2',\n",
       "   'properties': {'acquired': '2018-07-22T18:50:02Z',\n",
       "    'anomalous_pixels': 0,\n",
       "    'black_fill': 0,\n",
       "    'catalog_id': '36780096',\n",
       "    'cloud_cover': 0,\n",
       "    'columns': 5000,\n",
       "    'epsg_code': 32611,\n",
       "    'grid_cell': '1155003',\n",
       "    'ground_control': True,\n",
       "    'gsd': 6.5,\n",
       "    'item_type': 'REOrthoTile',\n",
       "    'origin_x': 211500,\n",
       "    'origin_y': 3840500,\n",
       "    'pixel_resolution': 5,\n",
       "    'provider': 'rapideye',\n",
       "    'published': '2018-07-23T12:23:01.143Z',\n",
       "    'rows': 5000,\n",
       "    'satellite_id': 'RapidEye-2',\n",
       "    'strip_id': '36779986',\n",
       "    'sun_azimuth': 125.11933,\n",
       "    'sun_elevation': 67.91829,\n",
       "    'updated': '2018-07-23T12:23:01.157Z',\n",
       "    'usable_data': 1,\n",
       "    'view_angle': 6.82527},\n",
       "   'type': 'Feature'},\n",
       "  {'_links': {'_self': 'https://api.planet.com/data/v1/item-types/REOrthoTile/items/20180722_185002_1155004_RapidEye-2',\n",
       "    'assets': 'https://api.planet.com/data/v1/item-types/REOrthoTile/items/20180722_185002_1155004_RapidEye-2/assets/',\n",
       "    'thumbnail': 'https://tiles.planet.com/data/v1/item-types/REOrthoTile/items/20180722_185002_1155004_RapidEye-2/thumb'},\n",
       "   '_permissions': ['assets.analytic:download',\n",
       "    'assets.visual:download',\n",
       "    'assets.analytic_xml:download',\n",
       "    'assets.visual_xml:download',\n",
       "    'assets.udm:download'],\n",
       "   'geometry': {'coordinates': [[[-119.74798775196216, 34.45011179865218],\n",
       "      [-119.8789068, 34.4471726],\n",
       "      [-119.8866818, 34.6723382],\n",
       "      [-119.68836584529058, 34.67681643574434],\n",
       "      [-119.69087306377, 34.6672832428083],\n",
       "      [-119.74798775196216, 34.45011179865218]]],\n",
       "    'type': 'Polygon'},\n",
       "   'id': '20180722_185002_1155004_RapidEye-2',\n",
       "   'properties': {'acquired': '2018-07-22T18:50:02Z',\n",
       "    'anomalous_pixels': 0.41,\n",
       "    'black_fill': 0.4,\n",
       "    'catalog_id': '36780097',\n",
       "    'cloud_cover': 0.01,\n",
       "    'columns': 5000,\n",
       "    'epsg_code': 32611,\n",
       "    'grid_cell': '1155004',\n",
       "    'ground_control': True,\n",
       "    'gsd': 6.5,\n",
       "    'item_type': 'REOrthoTile',\n",
       "    'origin_x': 235500,\n",
       "    'origin_y': 3840500,\n",
       "    'pixel_resolution': 5,\n",
       "    'provider': 'rapideye',\n",
       "    'published': '2018-07-23T12:22:05.863Z',\n",
       "    'rows': 5000,\n",
       "    'satellite_id': 'RapidEye-2',\n",
       "    'strip_id': '36779986',\n",
       "    'sun_azimuth': 125.5835,\n",
       "    'sun_elevation': 68.08883,\n",
       "    'updated': '2018-07-23T12:22:05.891Z',\n",
       "    'usable_data': 0.59,\n",
       "    'view_angle': 6.82527},\n",
       "   'type': 'Feature'},\n",
       "  {'_links': {'_self': 'https://api.planet.com/data/v1/item-types/REOrthoTile/items/20180722_185002_1055026_RapidEye-2',\n",
       "    'assets': 'https://api.planet.com/data/v1/item-types/REOrthoTile/items/20180722_185002_1055026_RapidEye-2/assets/',\n",
       "    'thumbnail': 'https://tiles.planet.com/data/v1/item-types/REOrthoTile/items/20180722_185002_1055026_RapidEye-2/thumb'},\n",
       "   '_permissions': ['assets.analytic:download',\n",
       "    'assets.visual:download',\n",
       "    'assets.analytic_xml:download',\n",
       "    'assets.visual_xml:download',\n",
       "    'assets.udm:download'],\n",
       "   'geometry': {'coordinates': [[[-120.1242197, 34.6725961],\n",
       "      [-119.8520472, 34.6661271],\n",
       "      [-119.8598773, 34.4410109],\n",
       "      [-120.1319655, 34.4474283],\n",
       "      [-120.1242197, 34.6725961]]],\n",
       "    'type': 'Polygon'},\n",
       "   'id': '20180722_185002_1055026_RapidEye-2',\n",
       "   'properties': {'acquired': '2018-07-22T18:50:02Z',\n",
       "    'anomalous_pixels': 0,\n",
       "    'black_fill': 0,\n",
       "    'catalog_id': '36780079',\n",
       "    'cloud_cover': 0,\n",
       "    'columns': 5000,\n",
       "    'epsg_code': 32610,\n",
       "    'grid_cell': '1055026',\n",
       "    'ground_control': True,\n",
       "    'gsd': 6.5,\n",
       "    'item_type': 'REOrthoTile',\n",
       "    'origin_x': 763500,\n",
       "    'origin_y': 3840500,\n",
       "    'pixel_resolution': 5,\n",
       "    'provider': 'rapideye',\n",
       "    'published': '2018-07-23T12:19:33.400Z',\n",
       "    'rows': 5000,\n",
       "    'satellite_id': 'RapidEye-2',\n",
       "    'strip_id': '36779986',\n",
       "    'sun_azimuth': 125.14677,\n",
       "    'sun_elevation': 67.92896,\n",
       "    'updated': '2018-07-23T12:19:33.414Z',\n",
       "    'usable_data': 1,\n",
       "    'view_angle': 6.82527},\n",
       "   'type': 'Feature'},\n",
       "  {'_links': {'_self': 'https://api.planet.com/data/v1/item-types/REOrthoTile/items/20180709_184732_1155004_RapidEye-3',\n",
       "    'assets': 'https://api.planet.com/data/v1/item-types/REOrthoTile/items/20180709_184732_1155004_RapidEye-3/assets/',\n",
       "    'thumbnail': 'https://tiles.planet.com/data/v1/item-types/REOrthoTile/items/20180709_184732_1155004_RapidEye-3/thumb'},\n",
       "   '_permissions': ['assets.analytic:download',\n",
       "    'assets.visual:download',\n",
       "    'assets.analytic_xml:download',\n",
       "    'assets.visual_xml:download',\n",
       "    'assets.udm:download'],\n",
       "   'geometry': {'coordinates': [[[-119.8866818, 34.6723382],\n",
       "      [-119.6141025, 34.6784934],\n",
       "      [-119.6070599, 34.4532757],\n",
       "      [-119.8789068, 34.4471726],\n",
       "      [-119.8866818, 34.6723382]]],\n",
       "    'type': 'Polygon'},\n",
       "   'id': '20180709_184732_1155004_RapidEye-3',\n",
       "   'properties': {'acquired': '2018-07-09T18:47:32Z',\n",
       "    'anomalous_pixels': 0.44,\n",
       "    'black_fill': 0,\n",
       "    'catalog_id': '36650872',\n",
       "    'cloud_cover': 0.44,\n",
       "    'columns': 5000,\n",
       "    'epsg_code': 32611,\n",
       "    'grid_cell': '1155004',\n",
       "    'ground_control': True,\n",
       "    'gsd': 6.5,\n",
       "    'item_type': 'REOrthoTile',\n",
       "    'origin_x': 235500,\n",
       "    'origin_y': 3840500,\n",
       "    'pixel_resolution': 5,\n",
       "    'provider': 'rapideye',\n",
       "    'published': '2018-07-10T10:49:47.999Z',\n",
       "    'rows': 5000,\n",
       "    'satellite_id': 'RapidEye-3',\n",
       "    'strip_id': '36650792',\n",
       "    'sun_azimuth': 120.68768,\n",
       "    'sun_elevation': 69.29044,\n",
       "    'updated': '2018-07-10T10:49:48.020Z',\n",
       "    'usable_data': 0.56,\n",
       "    'view_angle': -3.18747},\n",
       "   'type': 'Feature'},\n",
       "  {'_links': {'_self': 'https://api.planet.com/data/v1/item-types/REOrthoTile/items/20180709_184732_1155003_RapidEye-3',\n",
       "    'assets': 'https://api.planet.com/data/v1/item-types/REOrthoTile/items/20180709_184732_1155003_RapidEye-3/assets/',\n",
       "    'thumbnail': 'https://tiles.planet.com/data/v1/item-types/REOrthoTile/items/20180709_184732_1155003_RapidEye-3/thumb'},\n",
       "   '_permissions': ['assets.analytic:download',\n",
       "    'assets.visual:download',\n",
       "    'assets.analytic_xml:download',\n",
       "    'assets.visual_xml:download',\n",
       "    'assets.udm:download'],\n",
       "   'geometry': {'coordinates': [[[-120.1479528, 34.6661271],\n",
       "      [-119.8757803, 34.6725961],\n",
       "      [-119.8680345, 34.4474283],\n",
       "      [-120.1401227, 34.4410109],\n",
       "      [-120.1479528, 34.6661271]]],\n",
       "    'type': 'Polygon'},\n",
       "   'id': '20180709_184732_1155003_RapidEye-3',\n",
       "   'properties': {'acquired': '2018-07-09T18:47:32Z',\n",
       "    'anomalous_pixels': 0.01,\n",
       "    'black_fill': 0,\n",
       "    'catalog_id': '36650871',\n",
       "    'cloud_cover': 0.01,\n",
       "    'columns': 5000,\n",
       "    'epsg_code': 32611,\n",
       "    'grid_cell': '1155003',\n",
       "    'ground_control': True,\n",
       "    'gsd': 6.5,\n",
       "    'item_type': 'REOrthoTile',\n",
       "    'origin_x': 211500,\n",
       "    'origin_y': 3840500,\n",
       "    'pixel_resolution': 5,\n",
       "    'provider': 'rapideye',\n",
       "    'published': '2018-07-10T10:49:47.647Z',\n",
       "    'rows': 5000,\n",
       "    'satellite_id': 'RapidEye-3',\n",
       "    'strip_id': '36650792',\n",
       "    'sun_azimuth': 120.24303,\n",
       "    'sun_elevation': 69.10968,\n",
       "    'updated': '2018-07-10T10:49:47.671Z',\n",
       "    'usable_data': 0.99,\n",
       "    'view_angle': -3.18747},\n",
       "   'type': 'Feature'},\n",
       "  {'_links': {'_self': 'https://api.planet.com/data/v1/item-types/REOrthoTile/items/20180709_184732_1055026_RapidEye-3',\n",
       "    'assets': 'https://api.planet.com/data/v1/item-types/REOrthoTile/items/20180709_184732_1055026_RapidEye-3/assets/',\n",
       "    'thumbnail': 'https://tiles.planet.com/data/v1/item-types/REOrthoTile/items/20180709_184732_1055026_RapidEye-3/thumb'},\n",
       "   '_permissions': ['assets.analytic:download',\n",
       "    'assets.visual:download',\n",
       "    'assets.analytic_xml:download',\n",
       "    'assets.visual_xml:download',\n",
       "    'assets.udm:download'],\n",
       "   'geometry': {'coordinates': [[[-120.1242197, 34.6725961],\n",
       "      [-119.8520472, 34.6661271],\n",
       "      [-119.8598773, 34.4410109],\n",
       "      [-120.1319655, 34.4474283],\n",
       "      [-120.1242197, 34.6725961]]],\n",
       "    'type': 'Polygon'},\n",
       "   'id': '20180709_184732_1055026_RapidEye-3',\n",
       "   'properties': {'acquired': '2018-07-09T18:47:32Z',\n",
       "    'anomalous_pixels': 0.03,\n",
       "    'black_fill': 0,\n",
       "    'catalog_id': '36650859',\n",
       "    'cloud_cover': 0.03,\n",
       "    'columns': 5000,\n",
       "    'epsg_code': 32610,\n",
       "    'grid_cell': '1055026',\n",
       "    'ground_control': True,\n",
       "    'gsd': 6.5,\n",
       "    'item_type': 'REOrthoTile',\n",
       "    'origin_x': 763500,\n",
       "    'origin_y': 3840500,\n",
       "    'pixel_resolution': 5,\n",
       "    'provider': 'rapideye',\n",
       "    'published': '2018-07-10T10:48:44.550Z',\n",
       "    'rows': 5000,\n",
       "    'satellite_id': 'RapidEye-3',\n",
       "    'strip_id': '36650792',\n",
       "    'sun_azimuth': 120.26917,\n",
       "    'sun_elevation': 69.12094,\n",
       "    'updated': '2018-07-10T10:48:44.583Z',\n",
       "    'usable_data': 0.97,\n",
       "    'view_angle': -3.18747},\n",
       "   'type': 'Feature'},\n",
       "  {'_links': {'_self': 'https://api.planet.com/data/v1/item-types/REOrthoTile/items/20180707_185220_1155003_RapidEye-1',\n",
       "    'assets': 'https://api.planet.com/data/v1/item-types/REOrthoTile/items/20180707_185220_1155003_RapidEye-1/assets/',\n",
       "    'thumbnail': 'https://tiles.planet.com/data/v1/item-types/REOrthoTile/items/20180707_185220_1155003_RapidEye-1/thumb'},\n",
       "   '_permissions': ['assets.analytic:download',\n",
       "    'assets.visual:download',\n",
       "    'assets.analytic_xml:download',\n",
       "    'assets.visual_xml:download',\n",
       "    'assets.udm:download'],\n",
       "   'geometry': {'coordinates': [[[-120.1479528, 34.6661271],\n",
       "      [-119.8757803, 34.6725961],\n",
       "      [-119.8680345, 34.4474283],\n",
       "      [-120.1401227, 34.4410109],\n",
       "      [-120.1479528, 34.6661271]]],\n",
       "    'type': 'Polygon'},\n",
       "   'id': '20180707_185220_1155003_RapidEye-1',\n",
       "   'properties': {'acquired': '2018-07-07T18:52:20Z',\n",
       "    'anomalous_pixels': 0,\n",
       "    'black_fill': 0,\n",
       "    'catalog_id': '36629840',\n",
       "    'cloud_cover': 0,\n",
       "    'columns': 5000,\n",
       "    'epsg_code': 32611,\n",
       "    'grid_cell': '1155003',\n",
       "    'ground_control': True,\n",
       "    'gsd': 6.5,\n",
       "    'item_type': 'REOrthoTile',\n",
       "    'origin_x': 211500,\n",
       "    'origin_y': 3840500,\n",
       "    'pixel_resolution': 5,\n",
       "    'provider': 'rapideye',\n",
       "    'published': '2018-07-08T10:00:49.000Z',\n",
       "    'rows': 5000,\n",
       "    'satellite_id': 'RapidEye-1',\n",
       "    'strip_id': '36629740',\n",
       "    'sun_azimuth': 121.91049,\n",
       "    'sun_elevation': 70.16025,\n",
       "    'updated': '2018-07-08T10:01:42.441Z',\n",
       "    'usable_data': 1,\n",
       "    'view_angle': 0.20303},\n",
       "   'type': 'Feature'},\n",
       "  {'_links': {'_self': 'https://api.planet.com/data/v1/item-types/REOrthoTile/items/20180707_185219_1155004_RapidEye-1',\n",
       "    'assets': 'https://api.planet.com/data/v1/item-types/REOrthoTile/items/20180707_185219_1155004_RapidEye-1/assets/',\n",
       "    'thumbnail': 'https://tiles.planet.com/data/v1/item-types/REOrthoTile/items/20180707_185219_1155004_RapidEye-1/thumb'},\n",
       "   '_permissions': ['assets.analytic:download',\n",
       "    'assets.visual:download',\n",
       "    'assets.analytic_xml:download',\n",
       "    'assets.visual_xml:download',\n",
       "    'assets.udm:download'],\n",
       "   'geometry': {'coordinates': [[[-119.8866818, 34.6723382],\n",
       "      [-119.6141025, 34.6784934],\n",
       "      [-119.6070599, 34.4532757],\n",
       "      [-119.8789068, 34.4471726],\n",
       "      [-119.8866818, 34.6723382]]],\n",
       "    'type': 'Polygon'},\n",
       "   'id': '20180707_185219_1155004_RapidEye-1',\n",
       "   'properties': {'acquired': '2018-07-07T18:52:19Z',\n",
       "    'anomalous_pixels': 0,\n",
       "    'black_fill': 0,\n",
       "    'catalog_id': '36629841',\n",
       "    'cloud_cover': 0,\n",
       "    'columns': 5000,\n",
       "    'epsg_code': 32611,\n",
       "    'grid_cell': '1155004',\n",
       "    'ground_control': True,\n",
       "    'gsd': 6.5,\n",
       "    'item_type': 'REOrthoTile',\n",
       "    'origin_x': 235500,\n",
       "    'origin_y': 3840500,\n",
       "    'pixel_resolution': 5,\n",
       "    'provider': 'rapideye',\n",
       "    'published': '2018-07-08T10:00:49.000Z',\n",
       "    'rows': 5000,\n",
       "    'satellite_id': 'RapidEye-1',\n",
       "    'strip_id': '36629740',\n",
       "    'sun_azimuth': 122.38722,\n",
       "    'sun_elevation': 70.33765,\n",
       "    'updated': '2018-07-08T10:01:42.923Z',\n",
       "    'usable_data': 1,\n",
       "    'view_angle': 0.20303},\n",
       "   'type': 'Feature'},\n",
       "  {'_links': {'_self': 'https://api.planet.com/data/v1/item-types/REOrthoTile/items/20180707_185220_1055026_RapidEye-1',\n",
       "    'assets': 'https://api.planet.com/data/v1/item-types/REOrthoTile/items/20180707_185220_1055026_RapidEye-1/assets/',\n",
       "    'thumbnail': 'https://tiles.planet.com/data/v1/item-types/REOrthoTile/items/20180707_185220_1055026_RapidEye-1/thumb'},\n",
       "   '_permissions': ['assets.analytic:download',\n",
       "    'assets.visual:download',\n",
       "    'assets.analytic_xml:download',\n",
       "    'assets.visual_xml:download',\n",
       "    'assets.udm:download'],\n",
       "   'geometry': {'coordinates': [[[-120.1242197, 34.6725961],\n",
       "      [-119.8520472, 34.6661271],\n",
       "      [-119.8598773, 34.4410109],\n",
       "      [-120.1319655, 34.4474283],\n",
       "      [-120.1242197, 34.6725961]]],\n",
       "    'type': 'Polygon'},\n",
       "   'id': '20180707_185220_1055026_RapidEye-1',\n",
       "   'properties': {'acquired': '2018-07-07T18:52:20Z',\n",
       "    'anomalous_pixels': 0,\n",
       "    'black_fill': 0,\n",
       "    'catalog_id': '36629825',\n",
       "    'cloud_cover': 0,\n",
       "    'columns': 5000,\n",
       "    'epsg_code': 32610,\n",
       "    'grid_cell': '1055026',\n",
       "    'ground_control': True,\n",
       "    'gsd': 6.5,\n",
       "    'item_type': 'REOrthoTile',\n",
       "    'origin_x': 763500,\n",
       "    'origin_y': 3840500,\n",
       "    'pixel_resolution': 5,\n",
       "    'provider': 'rapideye',\n",
       "    'published': '2018-07-08T09:55:48.335Z',\n",
       "    'rows': 5000,\n",
       "    'satellite_id': 'RapidEye-1',\n",
       "    'strip_id': '36629740',\n",
       "    'sun_azimuth': 121.93853,\n",
       "    'sun_elevation': 70.17132,\n",
       "    'updated': '2018-07-08T09:55:48.337Z',\n",
       "    'usable_data': 1,\n",
       "    'view_angle': 0.20303},\n",
       "   'type': 'Feature'}],\n",
       " 'type': 'FeatureCollection'}"
      ]
     },
     "execution_count": 94,
     "metadata": {},
     "output_type": "execute_result"
    }
   ],
   "source": [
    "#print result.text\n",
    "out_json = json.loads(result.text)\n",
    "i=0\n",
    "out_json"
   ]
  },
  {
   "cell_type": "code",
   "execution_count": 95,
   "metadata": {},
   "outputs": [
    {
     "name": "stdout",
     "output_type": "stream",
     "text": [
      "20180728_184647_1155004_RapidEye-3\n",
      "20180728_184647_1155003_RapidEye-3\n",
      "20180728_184647_1055026_RapidEye-3\n",
      "20180724_184430_1155004_RapidEye-4\n",
      "20180724_184431_1155003_RapidEye-4\n",
      "20180724_184431_1055026_RapidEye-4\n",
      "20180722_185002_1155003_RapidEye-2\n",
      "20180722_185002_1155004_RapidEye-2\n",
      "20180722_185002_1055026_RapidEye-2\n",
      "20180709_184732_1155004_RapidEye-3\n",
      "20180709_184732_1155003_RapidEye-3\n",
      "20180709_184732_1055026_RapidEye-3\n",
      "20180707_185220_1155003_RapidEye-1\n",
      "20180707_185219_1155004_RapidEye-1\n",
      "20180707_185220_1055026_RapidEye-1\n"
     ]
    }
   ],
   "source": [
    "for feature in out_json['features']: \n",
    "\tif i == 0:\n",
    "\t\titem_id = feature['id']\n",
    "\ti=i+1\n",
    "\tprint(feature['id'])"
   ]
  },
  {
   "cell_type": "code",
   "execution_count": 96,
   "metadata": {},
   "outputs": [],
   "source": [
    "# item_id = \"20160707_195147_1057916_RapidEye-1\"\n",
    "item_id = \"20180707_185220_1055026_RapidEye-1\"\n",
    "item_type = \"REOrthoTile\"\n",
    "asset_type = \"visual\""
   ]
  },
  {
   "cell_type": "code",
   "execution_count": 97,
   "metadata": {},
   "outputs": [],
   "source": [
    "# request an item\n",
    "item = \\\n",
    "  session.get(\n",
    "    (\"https://api.planet.com/data/v1/item-types/\" +\n",
    "    \"{}/items/{}/assets/\").format(item_type, item_id))"
   ]
  },
  {
   "cell_type": "code",
   "execution_count": 98,
   "metadata": {},
   "outputs": [
    {
     "name": "stdout",
     "output_type": "stream",
     "text": [
      "<class 'requests.models.Response'>\n",
      "{'Access-Control-Allow-Credentials': 'true', 'Access-Control-Allow-Origin': '*', 'Content-Encoding': 'gzip', 'Content-Type': 'application/json', 'Date': 'Fri, 20 Sep 2019 10:02:08 GMT', 'Server': 'nginx/1.15.10', 'Strict-Transport-Security': 'max-age=15724800; includeSubDomains', 'Vary': 'Accept-Encoding', 'X-Planet-Trace-Id': 'd442fc4a-4abf-4f25-81a6-737a4906e1f1', 'Via': '1.1 edge, 1.1 google', 'Alt-Svc': 'clear', 'Transfer-Encoding': 'chunked'}\n"
     ]
    }
   ],
   "source": [
    "print(type(item))\n",
    "print(item.headers)\n"
   ]
  },
  {
   "cell_type": "code",
   "execution_count": 99,
   "metadata": {},
   "outputs": [
    {
     "name": "stdout",
     "output_type": "stream",
     "text": [
      "b'{\"analytic\": {\"_links\": {\"_self\": \"https://api.planet.com/data/v1/assets/eyJpIjogIjIwMTgwNzA3XzE4NTIyMF8xMDU1MDI2X1JhcGlkRXllLTEiLCAiYyI6ICJSRU9ydGhvVGlsZSIsICJ0IjogImFuYWx5dGljIiwgImN0IjogIml0ZW0tdHlwZSJ9\", \"activate\": \"https://api.planet.com/data/v1/assets/eyJpIjogIjIwMTgwNzA3XzE4NTIyMF8xMDU1MDI2X1JhcGlkRXllLTEiLCAiYyI6ICJSRU9ydGhvVGlsZSIsICJ0IjogImFuYWx5dGljIiwgImN0IjogIml0ZW0tdHlwZSJ9/activate\", \"type\": \"https://api.planet.com/data/v1/asset-types/analytic\"}, \"_permissions\": [\"download\"], \"md5_digest\": null, \"status\": \"inactive\", \"type\": \"analytic\"}, \"analytic_xml\": {\"_links\": {\"_self\": \"https://api.planet.com/data/v1/assets/eyJpIjogIjIwMTgwNzA3XzE4NTIyMF8xMDU1MDI2X1JhcGlkRXllLTEiLCAiYyI6ICJSRU9ydGhvVGlsZSIsICJ0IjogImFuYWx5dGljX3htbCIsICJjdCI6ICJpdGVtLXR5cGUifQ\", \"activate\": \"https://api.planet.com/data/v1/assets/eyJpIjogIjIwMTgwNzA3XzE4NTIyMF8xMDU1MDI2X1JhcGlkRXllLTEiLCAiYyI6ICJSRU9ydGhvVGlsZSIsICJ0IjogImFuYWx5dGljX3htbCIsICJjdCI6ICJpdGVtLXR5cGUifQ/activate\", \"type\": \"https://api.planet.com/data/v1/asset-types/analytic_xml\"}, \"_permissions\": [\"download\"], \"md5_digest\": null, \"status\": \"inactive\", \"type\": \"analytic_xml\"}, \"udm\": {\"_links\": {\"_self\": \"https://api.planet.com/data/v1/assets/eyJpIjogIjIwMTgwNzA3XzE4NTIyMF8xMDU1MDI2X1JhcGlkRXllLTEiLCAiYyI6ICJSRU9ydGhvVGlsZSIsICJ0IjogInVkbSIsICJjdCI6ICJpdGVtLXR5cGUifQ\", \"activate\": \"https://api.planet.com/data/v1/assets/eyJpIjogIjIwMTgwNzA3XzE4NTIyMF8xMDU1MDI2X1JhcGlkRXllLTEiLCAiYyI6ICJSRU9ydGhvVGlsZSIsICJ0IjogInVkbSIsICJjdCI6ICJpdGVtLXR5cGUifQ/activate\", \"type\": \"https://api.planet.com/data/v1/asset-types/udm\"}, \"_permissions\": [\"download\"], \"md5_digest\": null, \"status\": \"inactive\", \"type\": \"udm\"}, \"visual\": {\"_links\": {\"_self\": \"https://api.planet.com/data/v1/assets/eyJpIjogIjIwMTgwNzA3XzE4NTIyMF8xMDU1MDI2X1JhcGlkRXllLTEiLCAiYyI6ICJSRU9ydGhvVGlsZSIsICJ0IjogInZpc3VhbCIsICJjdCI6ICJpdGVtLXR5cGUifQ\", \"activate\": \"https://api.planet.com/data/v1/assets/eyJpIjogIjIwMTgwNzA3XzE4NTIyMF8xMDU1MDI2X1JhcGlkRXllLTEiLCAiYyI6ICJSRU9ydGhvVGlsZSIsICJ0IjogInZpc3VhbCIsICJjdCI6ICJpdGVtLXR5cGUifQ/activate\", \"type\": \"https://api.planet.com/data/v1/asset-types/visual\"}, \"_permissions\": [\"download\"], \"md5_digest\": null, \"status\": \"inactive\", \"type\": \"visual\"}, \"visual_xml\": {\"_links\": {\"_self\": \"https://api.planet.com/data/v1/assets/eyJpIjogIjIwMTgwNzA3XzE4NTIyMF8xMDU1MDI2X1JhcGlkRXllLTEiLCAiYyI6ICJSRU9ydGhvVGlsZSIsICJ0IjogInZpc3VhbF94bWwiLCAiY3QiOiAiaXRlbS10eXBlIn0\", \"activate\": \"https://api.planet.com/data/v1/assets/eyJpIjogIjIwMTgwNzA3XzE4NTIyMF8xMDU1MDI2X1JhcGlkRXllLTEiLCAiYyI6ICJSRU9ydGhvVGlsZSIsICJ0IjogInZpc3VhbF94bWwiLCAiY3QiOiAiaXRlbS10eXBlIn0/activate\", \"type\": \"https://api.planet.com/data/v1/asset-types/visual_xml\"}, \"_permissions\": [\"download\"], \"md5_digest\": null, \"status\": \"inactive\", \"type\": \"visual_xml\"}}'\n"
     ]
    }
   ],
   "source": [
    "print(item.content)"
   ]
  },
  {
   "cell_type": "code",
   "execution_count": 100,
   "metadata": {},
   "outputs": [
    {
     "name": "stdout",
     "output_type": "stream",
     "text": [
      "inactive\n"
     ]
    }
   ],
   "source": [
    "# check if the item is active, if it is inactive, it cannot be downloaded.\n",
    "# (the server has to fetch the image in the background I think.)\n",
    "print(item.json()['visual']['status'])"
   ]
  },
  {
   "cell_type": "code",
   "execution_count": 101,
   "metadata": {},
   "outputs": [],
   "source": [
    "# let's activate the item\n",
    "# Parse out useful links\n",
    "links = item.json()[u\"visual\"][\"_links\"]\n",
    "self_link = links[\"_self\"]\n",
    "activation_link = links[\"activate\"]"
   ]
  },
  {
   "cell_type": "code",
   "execution_count": 102,
   "metadata": {},
   "outputs": [
    {
     "data": {
      "text/plain": [
       "{'_self': 'https://api.planet.com/data/v1/assets/eyJpIjogIjIwMTgwNzA3XzE4NTIyMF8xMDU1MDI2X1JhcGlkRXllLTEiLCAiYyI6ICJSRU9ydGhvVGlsZSIsICJ0IjogInZpc3VhbCIsICJjdCI6ICJpdGVtLXR5cGUifQ',\n",
       " 'activate': 'https://api.planet.com/data/v1/assets/eyJpIjogIjIwMTgwNzA3XzE4NTIyMF8xMDU1MDI2X1JhcGlkRXllLTEiLCAiYyI6ICJSRU9ydGhvVGlsZSIsICJ0IjogInZpc3VhbCIsICJjdCI6ICJpdGVtLXR5cGUifQ/activate',\n",
       " 'type': 'https://api.planet.com/data/v1/asset-types/visual'}"
      ]
     },
     "execution_count": 102,
     "metadata": {},
     "output_type": "execute_result"
    }
   ],
   "source": [
    "links"
   ]
  },
  {
   "cell_type": "code",
   "execution_count": 103,
   "metadata": {},
   "outputs": [
    {
     "data": {
      "text/plain": [
       "'https://api.planet.com/data/v1/assets/eyJpIjogIjIwMTgwNzA3XzE4NTIyMF8xMDU1MDI2X1JhcGlkRXllLTEiLCAiYyI6ICJSRU9ydGhvVGlsZSIsICJ0IjogInZpc3VhbCIsICJjdCI6ICJpdGVtLXR5cGUifQ'"
      ]
     },
     "execution_count": 103,
     "metadata": {},
     "output_type": "execute_result"
    }
   ],
   "source": [
    "self_link"
   ]
  },
  {
   "cell_type": "code",
   "execution_count": 104,
   "metadata": {},
   "outputs": [
    {
     "data": {
      "text/plain": [
       "'https://api.planet.com/data/v1/assets/eyJpIjogIjIwMTgwNzA3XzE4NTIyMF8xMDU1MDI2X1JhcGlkRXllLTEiLCAiYyI6ICJSRU9ydGhvVGlsZSIsICJ0IjogInZpc3VhbCIsICJjdCI6ICJpdGVtLXR5cGUifQ/activate'"
      ]
     },
     "execution_count": 104,
     "metadata": {},
     "output_type": "execute_result"
    }
   ],
   "source": [
    "activation_link"
   ]
  },
  {
   "cell_type": "code",
   "execution_count": 105,
   "metadata": {},
   "outputs": [],
   "source": [
    "# Request activation of the asset:\n",
    "activate_result = \\\n",
    "  requests.get(\n",
    "    activation_link,\n",
    "    auth=HTTPBasicAuth(PLANET_API_KEY, '')\n",
    "  )"
   ]
  },
  {
   "cell_type": "code",
   "execution_count": 106,
   "metadata": {},
   "outputs": [
    {
     "data": {
      "text/plain": [
       "<Response [403]>"
      ]
     },
     "execution_count": 106,
     "metadata": {},
     "output_type": "execute_result"
    }
   ],
   "source": [
    "activate_result"
   ]
  },
  {
   "cell_type": "code",
   "execution_count": null,
   "metadata": {},
   "outputs": [],
   "source": []
  }
 ],
 "metadata": {
  "kernelspec": {
   "display_name": "Python 3",
   "language": "python",
   "name": "python3"
  },
  "language_info": {
   "codemirror_mode": {
    "name": "ipython",
    "version": 3
   },
   "file_extension": ".py",
   "mimetype": "text/x-python",
   "name": "python",
   "nbconvert_exporter": "python",
   "pygments_lexer": "ipython3",
   "version": "3.7.4"
  }
 },
 "nbformat": 4,
 "nbformat_minor": 4
}
